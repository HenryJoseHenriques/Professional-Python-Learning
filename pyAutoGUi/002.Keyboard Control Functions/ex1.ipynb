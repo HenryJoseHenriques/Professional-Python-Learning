{
 "cells": [
  {
   "cell_type": "markdown",
   "metadata": {},
   "source": [
    "## Entrando na Intranet da Univali"
   ]
  },
  {
   "cell_type": "code",
   "execution_count": 21,
   "metadata": {},
   "outputs": [],
   "source": [
    "import pyautogui as pg\n",
    "\n",
    "pg.press(\"win\", interval= 0.5)\n",
    "pg.write(\"opera\", interval= 0.10)\n",
    "pg.press(\"enter\", interval= 0.25)\n",
    "pg.hotkey(\"ctrl\",\"shift\",\"n\", interval= 0.25)\n",
    "pg.write(\"https://intranet.univali.br/intranet/indexMural.php\", interval= 0.1)\n",
    "pg.press(\"enter\", interval= 1)\n",
    "pg.write(\"#####\", interval= 0.10)\n",
    "pg.press(\"tab\", interval= 0.25)\n",
    "pg.write(\"#####\", interval= 0.10)\n",
    "pg.press(\"enter\", interval= 1)"
   ]
  }
 ],
 "metadata": {
  "kernelspec": {
   "display_name": "Python 3",
   "language": "python",
   "name": "python3"
  },
  "language_info": {
   "codemirror_mode": {
    "name": "ipython",
    "version": 3
   },
   "file_extension": ".py",
   "mimetype": "text/x-python",
   "name": "python",
   "nbconvert_exporter": "python",
   "pygments_lexer": "ipython3",
   "version": "3.12.5"
  }
 },
 "nbformat": 4,
 "nbformat_minor": 2
}
