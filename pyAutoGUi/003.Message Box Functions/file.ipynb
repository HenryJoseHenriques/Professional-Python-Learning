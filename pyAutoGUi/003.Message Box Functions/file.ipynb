{
 "cells": [
  {
   "cell_type": "markdown",
   "metadata": {},
   "source": [
    "## Message Box Functions"
   ]
  },
  {
   "cell_type": "code",
   "execution_count": 4,
   "metadata": {},
   "outputs": [],
   "source": [
    "import pyautogui as pg\n",
    "\n",
    "#Alertar\n",
    "#pg.alert(text=\"Olá Henry\", title='Saudação',button = \"OK\")\n",
    "\n",
    "#Confirmação\n",
    "#pg.confirm(text=\"Deu tudo certo\",title=\"Tarefa Completa\",buttons=[\"OK\",\"Cancel\"])\n",
    "\n",
    "#Prompt\n",
    "#pg.prompt(text = \"Mensagem de confirmação\", title = \"Automação Completa\", default=\"\")\n",
    "\n",
    "#Password\n",
    "#pg.password(text=\"Senha inserida\",title=\"Insira sua senha\",default=\"\",mask=\"\")"
   ]
  }
 ],
 "metadata": {
  "kernelspec": {
   "display_name": "Python 3",
   "language": "python",
   "name": "python3"
  },
  "language_info": {
   "codemirror_mode": {
    "name": "ipython",
    "version": 3
   },
   "file_extension": ".py",
   "mimetype": "text/x-python",
   "name": "python",
   "nbconvert_exporter": "python",
   "pygments_lexer": "ipython3",
   "version": "3.12.5"
  }
 },
 "nbformat": 4,
 "nbformat_minor": 2
}
