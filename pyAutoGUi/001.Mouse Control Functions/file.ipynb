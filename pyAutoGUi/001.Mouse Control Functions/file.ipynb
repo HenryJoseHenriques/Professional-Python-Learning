{
 "cells": [
  {
   "cell_type": "markdown",
   "metadata": {},
   "source": [
    "## Mouse control Functions\n",
    "\n",
    "position: "
   ]
  },
  {
   "cell_type": "code",
   "execution_count": 2,
   "metadata": {},
   "outputs": [
    {
     "name": "stdout",
     "output_type": "stream",
     "text": [
      "Size(width=1920, height=1080) Point(x=1646, y=434)\n"
     ]
    }
   ],
   "source": [
    "import pyautogui as pg\n",
    "\n",
    "\n",
    "tamScreen = pg.size() #return screen resolution\n",
    "mousePosition = pg.position() #return mouse position\n",
    "print(tamScreen,mousePosition)"
   ]
  },
  {
   "cell_type": "markdown",
   "metadata": {},
   "source": [
    "Para verificar se as coordenadas do mouse na tela então onde vc quer"
   ]
  },
  {
   "cell_type": "code",
   "execution_count": 3,
   "metadata": {},
   "outputs": [
    {
     "data": {
      "text/plain": [
       "True"
      ]
     },
     "execution_count": 3,
     "metadata": {},
     "output_type": "execute_result"
    }
   ],
   "source": [
    "pg.onScreen(2000,0) #retorna false\n",
    "pg.onScreen(1200,920) #retorna true "
   ]
  },
  {
   "cell_type": "markdown",
   "metadata": {},
   "source": [
    "## Movimentação do mouse\n",
    "\n",
    "moveTo(x,y) : para para direção deseja, é possível passa None como parametro para percorrer somente um eixo"
   ]
  },
  {
   "cell_type": "code",
   "execution_count": 4,
   "metadata": {},
   "outputs": [],
   "source": [
    "# pg.moveTo(500,200,duration=2.5)\n",
    "# pg.moveTo(None,300, duration= 2.5)"
   ]
  },
  {
   "cell_type": "markdown",
   "metadata": {},
   "source": [
    "move(x,y) : incrementa para a coordenada desejada a partir da coordenada atual"
   ]
  },
  {
   "cell_type": "code",
   "execution_count": 5,
   "metadata": {},
   "outputs": [],
   "source": [
    "# pg.move(120,60, duration= 2.5)\n",
    "# pg.move(-150,None, duration= 2.5)"
   ]
  },
  {
   "cell_type": "markdown",
   "metadata": {},
   "source": [
    "## Arrastar o Mouse\n",
    "\n",
    "dragTo(x,y) : semelhante ao moveTo, mas possibilita tbm clicar com os botões do mouse enquanto arrasta\n",
    "drag(x,y) : semelhante ao move, mas possibilita clicar com os botões do mouse enquanto arrasta"
   ]
  },
  {
   "cell_type": "code",
   "execution_count": 6,
   "metadata": {},
   "outputs": [],
   "source": [
    "# pg.dragTo(903,1043, 1.5, button=\"right\")\n",
    "# pg.drag(1200,None, 1.5, button= \"left\")"
   ]
  },
  {
   "cell_type": "markdown",
   "metadata": {},
   "source": [
    "## Interpolação\n",
    "\n",
    "Existem palavras-chave para adicionar comandos extras ao mouse "
   ]
  },
  {
   "cell_type": "code",
   "execution_count": 7,
   "metadata": {},
   "outputs": [],
   "source": [
    "#pg.moveTo(100, 100, 2, pg.easeInQuad)     # start slow, end fast\n",
    "#pg.moveTo(100, 100, 2, pg.easeOutQuad)    # start fast, end slow\n",
    "#pg.moveTo(100, 100, 2, pg.easeInOutQuad)  # start and end fast, slow in middle\n",
    "#pg.moveTo(100, 100, 2, pg.easeInBounce)   # bounce at the end\n",
    "#pg.moveTo(100, 100, 2, pg.easeInElastic)  # rubber band at the end"
   ]
  },
  {
   "cell_type": "markdown",
   "metadata": {},
   "source": [
    "## Mouse Clicks\n",
    "\n",
    "click() : dá um clique com o bortão esquerdo"
   ]
  },
  {
   "cell_type": "code",
   "execution_count": 14,
   "metadata": {},
   "outputs": [],
   "source": [
    "#pg.click()\n",
    "#pg.click(x=100,y=260)\n",
    "#pg.click(button=\"right\")\n",
    "\n",
    "#pg.click(clicks=3)\n",
    "#pg.click(clicks=3, interval=0.25) #adiciona um intervalo entre os clicks \n",
    "\n",
    "#pg.click(x=200,y=300, button=\"right\")\n",
    "#pg.click(x=200,y=300, button=\"right\", duration= 2.5)\n",
    "#pg.click(x=200,y=300, button=\"right\", duration= 2.5)\n",
    "\n",
    "#pg.doubleClick() # dá dois cliques seguidos com o botão esquerdo"
   ]
  },
  {
   "cell_type": "markdown",
   "metadata": {},
   "source": [
    "# MouseUp e MouseDown"
   ]
  },
  {
   "cell_type": "code",
   "execution_count": 19,
   "metadata": {},
   "outputs": [],
   "source": [
    "#pg.mouseDown()\n",
    "#pg.mouseUp()\n",
    "#pg.mouseUp(button= \"right\", x = 200, y = 130)\n"
   ]
  },
  {
   "cell_type": "markdown",
   "metadata": {},
   "source": [
    "## Mouse Scrolling"
   ]
  },
  {
   "cell_type": "code",
   "execution_count": 23,
   "metadata": {},
   "outputs": [],
   "source": [
    "pg.scroll(1000) # scroll para cima\n",
    "pg.scroll(-1000) # scroll para baixo\n",
    "pg.scroll(-1000, x = 100, y = 200) # vai para a coordenada e da scroll para baixo"
   ]
  },
  {
   "cell_type": "markdown",
   "metadata": {},
   "source": [
    "* Nota : hscroll() anda na horizontal no Linnux e Windows"
   ]
  }
 ],
 "metadata": {
  "kernelspec": {
   "display_name": "Python 3",
   "language": "python",
   "name": "python3"
  },
  "language_info": {
   "codemirror_mode": {
    "name": "ipython",
    "version": 3
   },
   "file_extension": ".py",
   "mimetype": "text/x-python",
   "name": "python",
   "nbconvert_exporter": "python",
   "pygments_lexer": "ipython3",
   "version": "3.12.5"
  }
 },
 "nbformat": 4,
 "nbformat_minor": 2
}
