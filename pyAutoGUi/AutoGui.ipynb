{
 "cells": [
  {
   "cell_type": "code",
   "execution_count": 32,
   "metadata": {},
   "outputs": [
    {
     "data": {
      "text/plain": [
       "Point(x=1753, y=169)"
      ]
     },
     "execution_count": 32,
     "metadata": {},
     "output_type": "execute_result"
    }
   ],
   "source": [
    "import pyautogui as pg\n",
    "\n",
    "x = 920\n",
    "y = 1050\n",
    "xOffSet = 60\n",
    "yOffSet = 80\n",
    "\n",
    "\n",
    "pg.PAUSE = 4\n",
    "pg.FAILSAFE = True\n",
    "\n",
    "#Posição atual do mouse\n",
    "pg.position()\n",
    "\n",
    "#Tamanho da tela\n",
    "#pg.size()"
   ]
  },
  {
   "cell_type": "markdown",
   "metadata": {},
   "source": [
    "Isso é um teste"
   ]
  },
  {
   "cell_type": "code",
   "execution_count": 33,
   "metadata": {},
   "outputs": [],
   "source": [
    "# if(pg.onScreen(x,y)):\n",
    "#     print(\"Está na tela\")\n",
    "# else:\n",
    "#     print(\"Não está na tela\")"
   ]
  },
  {
   "cell_type": "code",
   "execution_count": 34,
   "metadata": {},
   "outputs": [],
   "source": [
    "# #Move o mouse para o ponto XY\n",
    "# pg.moveTo(x,y,duration=3.5)\n",
    "# #pg.moveRel(xOffSet,yOffSet, duration= 4)\n",
    "# pg.leftClick()"
   ]
  },
  {
   "cell_type": "markdown",
   "metadata": {},
   "source": [
    "## Criar pasta de disciplina da faculdade"
   ]
  },
  {
   "cell_type": "code",
   "execution_count": 35,
   "metadata": {},
   "outputs": [],
   "source": [
    "# pg.hotkey(\"win\",\"d\")\n",
    "# pg.hotkey(\"ctrl\",\"shift\",\"n\")\n",
    "# pg.write(\"Estrutura de Dados\")\n",
    "# pg.press(\"enter\")\n",
    "# pg.PAUSE = 2\n",
    "# pg.press(\"enter\")\n",
    "# pg.PAUSE = 2\n",
    "# pg.hotkey(\"ctrl\",\"shift\",\"n\")\n",
    "# pg.write(\"M1\")\n",
    "# pg.press(\"enter\")\n",
    "# pg.PAUSE = 2\n",
    "# pg.hotkey(\"ctrl\",\"shift\",\"n\")\n",
    "# pg.write(\"M2\")\n",
    "# pg.press(\"enter\")\n",
    "# pg.PAUSE = 2\n",
    "# pg.hotkey(\"ctrl\",\"shift\",\"n\")\n",
    "# pg.write(\"M3\")\n",
    "# pg.press(\"enter\")\n"
   ]
  },
  {
   "cell_type": "markdown",
   "metadata": {},
   "source": [
    "## Abrir o powershell e ver lista de bibliotecas e frameworks"
   ]
  },
  {
   "cell_type": "code",
   "execution_count": 36,
   "metadata": {},
   "outputs": [],
   "source": [
    "# pg.press(\"win\")\n",
    "# pg.write(\"powershell\")\n",
    "# pg.press(\"enter\")\n",
    "# pg.write(\"py -m pip list\")\n",
    "# pg.press(\"enter\")"
   ]
  },
  {
   "cell_type": "markdown",
   "metadata": {},
   "source": [
    "## Entrar no intranet da Univali"
   ]
  },
  {
   "cell_type": "code",
   "execution_count": 37,
   "metadata": {},
   "outputs": [],
   "source": [
    "pg.press(\"win\")\n",
    "pg.write(\"Opera\")\n",
    "pg.press(\"enter\")\n",
    "pg.PAUSE = 5\n",
    "pg.hotkey(\"ctrl\",\"shift\",\"n\")\n",
    "pg.PAUSE = 3\n",
    "pg.write(\"intranet\")\n",
    "pg.press(\"enter\")\n",
    "pg.PAUSE = 1\n",
    "pg.write(\"#####\")\n",
    "pg.press(\"tab\")\n",
    "pg.write(\"#####\")\n",
    "pg.press(\"enter\")"
   ]
  }
 ],
 "metadata": {
  "kernelspec": {
   "display_name": "Python 3",
   "language": "python",
   "name": "python3"
  },
  "language_info": {
   "codemirror_mode": {
    "name": "ipython",
    "version": 3
   },
   "file_extension": ".py",
   "mimetype": "text/x-python",
   "name": "python",
   "nbconvert_exporter": "python",
   "pygments_lexer": "ipython3",
   "version": "3.12.5"
  }
 },
 "nbformat": 4,
 "nbformat_minor": 2
}
