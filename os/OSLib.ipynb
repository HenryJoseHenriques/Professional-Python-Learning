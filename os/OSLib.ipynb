{
 "cells": [
  {
   "cell_type": "markdown",
   "metadata": {},
   "source": [
    "# Biblioteca OS"
   ]
  },
  {
   "cell_type": "markdown",
   "metadata": {},
   "source": [
    "## Diretórios"
   ]
  },
  {
   "cell_type": "code",
   "execution_count": 5,
   "metadata": {},
   "outputs": [],
   "source": [
    "import os"
   ]
  },
  {
   "cell_type": "code",
   "execution_count": 26,
   "metadata": {},
   "outputs": [
    {
     "name": "stdout",
     "output_type": "stream",
     "text": [
      "C:\\ProgramData\n"
     ]
    }
   ],
   "source": [
    "#informações do sistema e variáveis do ambiente formato de dicionário\n",
    "sistema = os.environ\n",
    "print(sistema)\n",
    "\n",
    "#retorna o nome do sistema\n",
    "nome_sistema = os.name\n",
    "#nome_sistema\n",
    "\n",
    "#Retorna o valor da variável de ambiente associada à chave (key).\n",
    "variaval_sistema = os.getenv(\"ALLUSERSPROFILE\")\n",
    "#print(variaval_sistema)"
   ]
  },
  {
   "cell_type": "code",
   "execution_count": 7,
   "metadata": {},
   "outputs": [
    {
     "name": "stdout",
     "output_type": "stream",
     "text": [
      "C:\\Users\\BI0013\\Documents\n"
     ]
    }
   ],
   "source": [
    "#Muda o diretório\n",
    "os.chdir('C:\\\\Users\\\\BI0013\\\\Documents')\n",
    "\n",
    "novo_caminho = os.getcwd()\n",
    "\n",
    "print(novo_caminho)"
   ]
  },
  {
   "cell_type": "code",
   "execution_count": 8,
   "metadata": {},
   "outputs": [
    {
     "name": "stdout",
     "output_type": "stream",
     "text": [
      "['Arduino', 'desktop.ini', 'IISExpress', 'Mario Builder', 'Meus Vídeos', 'MinecraftEdu', 'MinecraftSG', 'Minhas Imagens', 'Minhas Músicas', 'My Web Sites', 'Overwatch', 'pixitracker', 'ROBLOX', 'Software Engineer.txt', 'TesteOS', 'Visual Studio 2019']\n"
     ]
    }
   ],
   "source": [
    "#Cria uma nova pasta\n",
    "os.mkdir(\"TesteOS\")\n",
    "\n",
    "#Remove diretório\n",
    "#os.rmdir(\"C:\\\\Users\\\\BI0013\\\\Documents\\\\TesteOS\")\n",
    "\n",
    "#lista o diretório atual\n",
    "print(os.listdir()) \n",
    "\n",
    "#cria ditórios consecutivos a partir do diretório atual\n",
    "os.makedirs('pasta1/pasta2/pasta3', exist_ok=True) #caso o  diretório já exista"
   ]
  },
  {
   "cell_type": "markdown",
   "metadata": {},
   "source": [
    "### os.Walk\n",
    "\n",
    "* O que faz: Gera os nomes dos arquivos e diretórios em uma árvore de diretórios, caminhando por todos os níveis a partir de um diretório de topo (top).\n",
    "* Uso comum: Para navegar em toda uma árvore de diretórios e listar arquivos e subdiretórios."
   ]
  },
  {
   "cell_type": "code",
   "execution_count": null,
   "metadata": {},
   "outputs": [],
   "source": [
    "for root, dirs, files in os.walk('C:\\\\Users\\\\BI0013\\\\Documents'):\n",
    "    print(\"Caminho:\", root)\n",
    "    print(\"Subdiretórios:\", dirs)\n",
    "    print(\"Arquivos:\", files)"
   ]
  },
  {
   "cell_type": "markdown",
   "metadata": {},
   "source": [
    "## Trabalhando com arquivos"
   ]
  },
  {
   "cell_type": "code",
   "execution_count": 12,
   "metadata": {},
   "outputs": [],
   "source": [
    "#Abre o arquivo\n",
    "os.startfile('Engenharia de Software.txt')\n",
    "\n",
    "#Renomeia\n",
    "os.rename('Engenharia de Software.txt','Software Engineer.txt')\n",
    "\n",
    "#Remove\n",
    "os.remove('Software Engineer.txt')"
   ]
  },
  {
   "cell_type": "markdown",
   "metadata": {},
   "source": [
    "## Caminhos"
   ]
  },
  {
   "cell_type": "code",
   "execution_count": 11,
   "metadata": {},
   "outputs": [
    {
     "name": "stdout",
     "output_type": "stream",
     "text": [
      "C:\\Users\\BI0013\\Documents\n"
     ]
    },
    {
     "data": {
      "text/plain": [
       "'C:\\\\Users\\\\BI0013\\\\Documents'"
      ]
     },
     "execution_count": 11,
     "metadata": {},
     "output_type": "execute_result"
    }
   ],
   "source": [
    "#O método os.path.commonpath() retorna o caminho comum mais longo a partir de uma lista de caminhos fornecidos.\n",
    "caminhos = [r\"C:\\Users\\BI0013\\Documents\\My Web Sites\\WebSite1\",r\"C:\\Users\\BI0013\\Documents\\MinecraftSG\"] #vetor de caminhos\n",
    "comum = os.path.commonpath(caminhos)\n",
    "print(comum)\n",
    "\n",
    "#O método os.path.dirname() retorna o diretório pai de um caminho.\n",
    "caminho1 = r\"C:\\Users\\BI0013\\Pictures\\Screenshots\\Captura de tela 2024-09-16 161357.png\"\n",
    "diretorio = os.path.dirname(caminho1)\n",
    "diretorio\n",
    "\n",
    "#O método os.path.basename() retorna a última parte (arquivo ou diretório) de um caminho.\n",
    "arquivo1 = os.path.basename(caminho1)\n",
    "arquivo1\n",
    "\n",
    "#O método é semelhante ao os.path.commonpath(), mas ele retorna o prefixo comum mais longo baseado em simples comparação de caracteres (não necessariamente caminhos válidos). \n",
    "arquivo2 = os.path.commonpath(caminhos)\n",
    "arquivo2"
   ]
  },
  {
   "cell_type": "markdown",
   "metadata": {},
   "source": [
    "## Notas\n",
    "\n",
    "* Ainda existem muitos métodos dessa biblioteca que podem ser convinientes aprender, continue a estudando\n",
    "\n",
    "https://python101.pythonlibrary.org/chapter16_os.html\n",
    "\n",
    "https://python.readthedocs.io/en/stable/library/os.html\n",
    "\n",
    "https://docs.python.org/pt-br/3/library/os.html"
   ]
  }
 ],
 "metadata": {
  "kernelspec": {
   "display_name": "Python 3",
   "language": "python",
   "name": "python3"
  },
  "language_info": {
   "codemirror_mode": {
    "name": "ipython",
    "version": 3
   },
   "file_extension": ".py",
   "mimetype": "text/x-python",
   "name": "python",
   "nbconvert_exporter": "python",
   "pygments_lexer": "ipython3",
   "version": "3.12.6"
  }
 },
 "nbformat": 4,
 "nbformat_minor": 2
}
